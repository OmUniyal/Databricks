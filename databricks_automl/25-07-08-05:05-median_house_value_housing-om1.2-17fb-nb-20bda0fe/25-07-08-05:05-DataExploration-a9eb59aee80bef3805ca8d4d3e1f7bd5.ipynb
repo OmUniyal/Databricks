{
 "cells": [
  {
   "cell_type": "markdown",
   "metadata": {
    "application/vnd.databricks.v1+cell": {
     "cellMetadata": {},
     "inputWidgets": {},
     "nuid": "2946abd0-5a33-4734-a6d7-3651b9e27837",
     "showTitle": false,
     "tableResultSettingsMap": {},
     "title": ""
    }
   },
   "source": [
    "# Data Exploration\n",
    "- This notebook performs exploratory data analysis on the dataset.\n",
    "- To expand on the analysis, attach this notebook to a cluster with runtime version **16.4.x-cpu-ml-scala2.13**,\n",
    "edit [the options of pandas-profiling](https://pandas-profiling.ydata.ai/docs/master/rtd/pages/advanced_usage.html), and rerun it.\n",
    "- Explore completed trials in the [MLflow experiment](#mlflow/experiments/4129892405095075)."
   ]
  },
  {
   "cell_type": "code",
   "execution_count": 0,
   "metadata": {
    "application/vnd.databricks.v1+cell": {
     "cellMetadata": {},
     "inputWidgets": {},
     "nuid": "941d32df-17d3-4713-8548-c3c511d34430",
     "showTitle": false,
     "tableResultSettingsMap": {},
     "title": ""
    },
    "execution": {
     "iopub.execute_input": "2025-07-08T05:06:09.703063Z",
     "iopub.status.busy": "2025-07-08T05:06:09.702599Z",
     "iopub.status.idle": "2025-07-08T05:06:15.269383Z",
     "shell.execute_reply": "2025-07-08T05:06:15.268681Z"
    }
   },
   "outputs": [],
   "source": [
    "%pip install --no-deps ydata-profiling==4.8.3 pandas==2.2.3 visions==0.7.6 tzdata==2024.2"
   ]
  },
  {
   "cell_type": "code",
   "execution_count": 0,
   "metadata": {
    "application/vnd.databricks.v1+cell": {
     "cellMetadata": {},
     "inputWidgets": {},
     "nuid": "51eaf710-7bd5-46ed-94ce-af2bc3c4ff58",
     "showTitle": false,
     "tableResultSettingsMap": {},
     "title": ""
    },
    "execution": {
     "iopub.execute_input": "2025-07-08T05:06:15.273349Z",
     "iopub.status.busy": "2025-07-08T05:06:15.273112Z",
     "iopub.status.idle": "2025-07-08T05:06:16.526069Z",
     "shell.execute_reply": "2025-07-08T05:06:16.525503Z"
    }
   },
   "outputs": [],
   "source": [
    "import mlflow\n",
    "import os\n",
    "import uuid\n",
    "import shutil\n",
    "import pandas as pd\n",
    "import databricks.automl_runtime\n",
    "\n",
    "# Download input data from mlflow into a pandas DataFrame\n",
    "# Create temporary directory to download data\n",
    "temp_dir = os.path.join(os.environ[\"SPARK_LOCAL_DIRS\"], \"tmp\", str(uuid.uuid4())[:8])\n",
    "os.makedirs(temp_dir)\n",
    "\n",
    "# Download the artifact and read it\n",
    "training_data_path = mlflow.artifacts.download_artifacts(run_id=\"e659990d44b2450d9a03388888270528\", artifact_path=\"data\", dst_path=temp_dir)\n",
    "df = pd.read_parquet(os.path.join(training_data_path, \"training_data\"))\n",
    "\n",
    "# Delete the temporary data\n",
    "shutil.rmtree(temp_dir)\n",
    "\n",
    "target_col = \"median_house_value\"\n",
    "\n",
    "# Drop columns created by AutoML and user-specified sample weight column (if applicable) before pandas-profiling\n",
    "df = df.drop(['_automl_split_col_0000'], axis=1)"
   ]
  },
  {
   "cell_type": "markdown",
   "metadata": {
    "application/vnd.databricks.v1+cell": {
     "cellMetadata": {},
     "inputWidgets": {},
     "nuid": "5a848b2e-a2cb-4d0b-957d-392e2667c9d7",
     "showTitle": false,
     "tableResultSettingsMap": {},
     "title": ""
    }
   },
   "source": [
    "## Truncate rows\n",
    "Only the first 10000 rows will be considered for pandas-profiling to avoid out-of-memory issues.\n",
    "Comment out next cell and rerun the notebook to profile the full dataset."
   ]
  },
  {
   "cell_type": "code",
   "execution_count": 0,
   "metadata": {
    "application/vnd.databricks.v1+cell": {
     "cellMetadata": {},
     "inputWidgets": {},
     "nuid": "b7565640-45a4-4ead-815a-bf4e1883eadc",
     "showTitle": false,
     "tableResultSettingsMap": {},
     "title": ""
    },
    "execution": {
     "iopub.execute_input": "2025-07-08T05:06:16.528565Z",
     "iopub.status.busy": "2025-07-08T05:06:16.528343Z",
     "iopub.status.idle": "2025-07-08T05:06:16.531209Z",
     "shell.execute_reply": "2025-07-08T05:06:16.530778Z"
    }
   },
   "outputs": [],
   "source": [
    "df = df.iloc[:10000, :]"
   ]
  },
  {
   "cell_type": "markdown",
   "metadata": {
    "application/vnd.databricks.v1+cell": {
     "cellMetadata": {},
     "inputWidgets": {},
     "nuid": "04d26258-be8a-4639-ba9d-b12049e61230",
     "showTitle": false,
     "tableResultSettingsMap": {},
     "title": ""
    }
   },
   "source": [
    "## Profiling Results"
   ]
  },
  {
   "cell_type": "code",
   "execution_count": 0,
   "metadata": {
    "application/vnd.databricks.v1+cell": {
     "cellMetadata": {},
     "inputWidgets": {},
     "nuid": "63145cdb-8cd1-44b3-9c06-4bf70039690e",
     "showTitle": false,
     "tableResultSettingsMap": {},
     "title": ""
    },
    "execution": {
     "iopub.execute_input": "2025-07-08T05:06:16.533445Z",
     "iopub.status.busy": "2025-07-08T05:06:16.533094Z",
     "iopub.status.idle": "2025-07-08T05:06:35.482215Z",
     "shell.execute_reply": "2025-07-08T05:06:35.481658Z"
    },
    "large_display_output": true
   },
   "outputs": [],
   "source": [
    "from ydata_profiling import ProfileReport\n",
    "df_profile = ProfileReport(df,\n",
    "                           correlations={\n",
    "                               \"auto\": {\"calculate\": True},\n",
    "                               \"pearson\": {\"calculate\": True},\n",
    "                               \"spearman\": {\"calculate\": True},\n",
    "                               \"kendall\": {\"calculate\": True},\n",
    "                               \"phi_k\": {\"calculate\": True},\n",
    "                               \"cramers\": {\"calculate\": True},\n",
    "                           }, title=\"Profiling Report\", progress_bar=False, infer_dtypes=False)\n",
    "profile_html = df_profile.to_html()\n",
    "\n",
    "displayHTML(profile_html)"
   ]
  }
 ],
 "metadata": {
  "application/vnd.databricks.v1+notebook": {
   "computePreferences": null,
   "dashboards": [],
   "environmentMetadata": null,
   "inputWidgetPreferences": null,
   "language": "python",
   "notebookMetadata": {},
   "notebookName": "25-07-08-05:05-DataExploration-a9eb59aee80bef3805ca8d4d3e1f7bd5",
   "widgets": {}
  },
  "language_info": {
   "name": "python"
  },
  "name": "DataExploration-a9eb59aee80bef3805ca8d4d3e1f7bd5",
  "widgets": {
   "application/vnd.jupyter.widget-state+json": {
    "state": {
     "0526b203021744edba253c8cf7af4805": {
      "model_module": "@jupyter-widgets/controls",
      "model_module_version": "1.5.0",
      "model_name": "HTMLModel",
      "state": {
       "_dom_classes": [],
       "_model_module": "@jupyter-widgets/controls",
       "_model_module_version": "1.5.0",
       "_model_name": "HTMLModel",
       "_view_count": null,
       "_view_module": "@jupyter-widgets/controls",
       "_view_module_version": "1.5.0",
       "_view_name": "HTMLView",
       "description": "",
       "description_tooltip": null,
       "layout": "IPY_MODEL_775409b4d5734fb58f61361932395615",
       "placeholder": "​",
       "style": "IPY_MODEL_f9608089dfcd4f6aa95232163e9e5e98",
       "value": " 1/1 [00:00&lt;00:00,  2.95it/s]"
      }
     },
     "05639c4005e2482ab9c3a9131ded65b4": {
      "model_module": "@jupyter-widgets/controls",
      "model_module_version": "1.5.0",
      "model_name": "FloatProgressModel",
      "state": {
       "_dom_classes": [],
       "_model_module": "@jupyter-widgets/controls",
       "_model_module_version": "1.5.0",
       "_model_name": "FloatProgressModel",
       "_view_count": null,
       "_view_module": "@jupyter-widgets/controls",
       "_view_module_version": "1.5.0",
       "_view_name": "ProgressView",
       "bar_style": "success",
       "description": "",
       "description_tooltip": null,
       "layout": "IPY_MODEL_d3c82ed2eac44a7cbc91f2e8b8e67c33",
       "max": 1.0,
       "min": 0.0,
       "orientation": "horizontal",
       "style": "IPY_MODEL_4145da2ac4a4406a80b37d5da893cc4b",
       "value": 1.0
      }
     },
     "270c0544a3d744d8abb222d9545d782e": {
      "model_module": "@jupyter-widgets/controls",
      "model_module_version": "1.5.0",
      "model_name": "HBoxModel",
      "state": {
       "_dom_classes": [],
       "_model_module": "@jupyter-widgets/controls",
       "_model_module_version": "1.5.0",
       "_model_name": "HBoxModel",
       "_view_count": null,
       "_view_module": "@jupyter-widgets/controls",
       "_view_module_version": "1.5.0",
       "_view_name": "HBoxView",
       "box_style": "",
       "children": [
        "IPY_MODEL_702f2aa6f6604528bb8bb8fd99af4ff8",
        "IPY_MODEL_05639c4005e2482ab9c3a9131ded65b4",
        "IPY_MODEL_0526b203021744edba253c8cf7af4805"
       ],
       "layout": "IPY_MODEL_3d252c7e4f9741fa8f40be23190c8c55"
      }
     },
     "3992252ed36a43fea3317575dc9c7321": {
      "model_module": "@jupyter-widgets/controls",
      "model_module_version": "1.5.0",
      "model_name": "DescriptionStyleModel",
      "state": {
       "_model_module": "@jupyter-widgets/controls",
       "_model_module_version": "1.5.0",
       "_model_name": "DescriptionStyleModel",
       "_view_count": null,
       "_view_module": "@jupyter-widgets/base",
       "_view_module_version": "1.2.0",
       "_view_name": "StyleView",
       "description_width": ""
      }
     },
     "3d252c7e4f9741fa8f40be23190c8c55": {
      "model_module": "@jupyter-widgets/base",
      "model_module_version": "1.2.0",
      "model_name": "LayoutModel",
      "state": {
       "_model_module": "@jupyter-widgets/base",
       "_model_module_version": "1.2.0",
       "_model_name": "LayoutModel",
       "_view_count": null,
       "_view_module": "@jupyter-widgets/base",
       "_view_module_version": "1.2.0",
       "_view_name": "LayoutView",
       "align_content": null,
       "align_items": null,
       "align_self": null,
       "border": null,
       "bottom": null,
       "display": null,
       "flex": null,
       "flex_flow": null,
       "grid_area": null,
       "grid_auto_columns": null,
       "grid_auto_flow": null,
       "grid_auto_rows": null,
       "grid_column": null,
       "grid_gap": null,
       "grid_row": null,
       "grid_template_areas": null,
       "grid_template_columns": null,
       "grid_template_rows": null,
       "height": null,
       "justify_content": null,
       "justify_items": null,
       "left": null,
       "margin": null,
       "max_height": null,
       "max_width": null,
       "min_height": null,
       "min_width": null,
       "object_fit": null,
       "object_position": null,
       "order": null,
       "overflow": null,
       "overflow_x": null,
       "overflow_y": null,
       "padding": null,
       "right": null,
       "top": null,
       "visibility": null,
       "width": null
      }
     },
     "4145da2ac4a4406a80b37d5da893cc4b": {
      "model_module": "@jupyter-widgets/controls",
      "model_module_version": "1.5.0",
      "model_name": "ProgressStyleModel",
      "state": {
       "_model_module": "@jupyter-widgets/controls",
       "_model_module_version": "1.5.0",
       "_model_name": "ProgressStyleModel",
       "_view_count": null,
       "_view_module": "@jupyter-widgets/base",
       "_view_module_version": "1.2.0",
       "_view_name": "StyleView",
       "bar_color": null,
       "description_width": ""
      }
     },
     "702f2aa6f6604528bb8bb8fd99af4ff8": {
      "model_module": "@jupyter-widgets/controls",
      "model_module_version": "1.5.0",
      "model_name": "HTMLModel",
      "state": {
       "_dom_classes": [],
       "_model_module": "@jupyter-widgets/controls",
       "_model_module_version": "1.5.0",
       "_model_name": "HTMLModel",
       "_view_count": null,
       "_view_module": "@jupyter-widgets/controls",
       "_view_module_version": "1.5.0",
       "_view_name": "HTMLView",
       "description": "",
       "description_tooltip": null,
       "layout": "IPY_MODEL_ba4e40ae51ab414286cf5f7f3f183399",
       "placeholder": "​",
       "style": "IPY_MODEL_3992252ed36a43fea3317575dc9c7321",
       "value": "Downloading artifacts: 100%"
      }
     },
     "775409b4d5734fb58f61361932395615": {
      "model_module": "@jupyter-widgets/base",
      "model_module_version": "1.2.0",
      "model_name": "LayoutModel",
      "state": {
       "_model_module": "@jupyter-widgets/base",
       "_model_module_version": "1.2.0",
       "_model_name": "LayoutModel",
       "_view_count": null,
       "_view_module": "@jupyter-widgets/base",
       "_view_module_version": "1.2.0",
       "_view_name": "LayoutView",
       "align_content": null,
       "align_items": null,
       "align_self": null,
       "border": null,
       "bottom": null,
       "display": null,
       "flex": null,
       "flex_flow": null,
       "grid_area": null,
       "grid_auto_columns": null,
       "grid_auto_flow": null,
       "grid_auto_rows": null,
       "grid_column": null,
       "grid_gap": null,
       "grid_row": null,
       "grid_template_areas": null,
       "grid_template_columns": null,
       "grid_template_rows": null,
       "height": null,
       "justify_content": null,
       "justify_items": null,
       "left": null,
       "margin": null,
       "max_height": null,
       "max_width": null,
       "min_height": null,
       "min_width": null,
       "object_fit": null,
       "object_position": null,
       "order": null,
       "overflow": null,
       "overflow_x": null,
       "overflow_y": null,
       "padding": null,
       "right": null,
       "top": null,
       "visibility": null,
       "width": null
      }
     },
     "ba4e40ae51ab414286cf5f7f3f183399": {
      "model_module": "@jupyter-widgets/base",
      "model_module_version": "1.2.0",
      "model_name": "LayoutModel",
      "state": {
       "_model_module": "@jupyter-widgets/base",
       "_model_module_version": "1.2.0",
       "_model_name": "LayoutModel",
       "_view_count": null,
       "_view_module": "@jupyter-widgets/base",
       "_view_module_version": "1.2.0",
       "_view_name": "LayoutView",
       "align_content": null,
       "align_items": null,
       "align_self": null,
       "border": null,
       "bottom": null,
       "display": null,
       "flex": null,
       "flex_flow": null,
       "grid_area": null,
       "grid_auto_columns": null,
       "grid_auto_flow": null,
       "grid_auto_rows": null,
       "grid_column": null,
       "grid_gap": null,
       "grid_row": null,
       "grid_template_areas": null,
       "grid_template_columns": null,
       "grid_template_rows": null,
       "height": null,
       "justify_content": null,
       "justify_items": null,
       "left": null,
       "margin": null,
       "max_height": null,
       "max_width": null,
       "min_height": null,
       "min_width": null,
       "object_fit": null,
       "object_position": null,
       "order": null,
       "overflow": null,
       "overflow_x": null,
       "overflow_y": null,
       "padding": null,
       "right": null,
       "top": null,
       "visibility": null,
       "width": null
      }
     },
     "d3c82ed2eac44a7cbc91f2e8b8e67c33": {
      "model_module": "@jupyter-widgets/base",
      "model_module_version": "1.2.0",
      "model_name": "LayoutModel",
      "state": {
       "_model_module": "@jupyter-widgets/base",
       "_model_module_version": "1.2.0",
       "_model_name": "LayoutModel",
       "_view_count": null,
       "_view_module": "@jupyter-widgets/base",
       "_view_module_version": "1.2.0",
       "_view_name": "LayoutView",
       "align_content": null,
       "align_items": null,
       "align_self": null,
       "border": null,
       "bottom": null,
       "display": null,
       "flex": null,
       "flex_flow": null,
       "grid_area": null,
       "grid_auto_columns": null,
       "grid_auto_flow": null,
       "grid_auto_rows": null,
       "grid_column": null,
       "grid_gap": null,
       "grid_row": null,
       "grid_template_areas": null,
       "grid_template_columns": null,
       "grid_template_rows": null,
       "height": null,
       "justify_content": null,
       "justify_items": null,
       "left": null,
       "margin": null,
       "max_height": null,
       "max_width": null,
       "min_height": null,
       "min_width": null,
       "object_fit": null,
       "object_position": null,
       "order": null,
       "overflow": null,
       "overflow_x": null,
       "overflow_y": null,
       "padding": null,
       "right": null,
       "top": null,
       "visibility": null,
       "width": null
      }
     },
     "f9608089dfcd4f6aa95232163e9e5e98": {
      "model_module": "@jupyter-widgets/controls",
      "model_module_version": "1.5.0",
      "model_name": "DescriptionStyleModel",
      "state": {
       "_model_module": "@jupyter-widgets/controls",
       "_model_module_version": "1.5.0",
       "_model_name": "DescriptionStyleModel",
       "_view_count": null,
       "_view_module": "@jupyter-widgets/base",
       "_view_module_version": "1.2.0",
       "_view_name": "StyleView",
       "description_width": ""
      }
     }
    },
    "version_major": 2,
    "version_minor": 0
   }
  }
 },
 "nbformat": 4,
 "nbformat_minor": 0
}
