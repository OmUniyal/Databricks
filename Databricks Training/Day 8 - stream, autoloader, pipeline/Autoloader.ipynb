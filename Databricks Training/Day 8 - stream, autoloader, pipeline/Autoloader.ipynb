{
 "cells": [
  {
   "cell_type": "markdown",
   "metadata": {
    "application/vnd.databricks.v1+cell": {
     "cellMetadata": {},
     "inputWidgets": {},
     "nuid": "860fb3ab-76f3-440b-9b90-c369cf51fc58",
     "showTitle": false,
     "tableResultSettingsMap": {},
     "title": ""
    }
   },
   "source": [
    "(\n",
    "spark\n",
    " .readStream\n",
    " .schema(user_schema)\n",
    " .csv(input_path,header=True)\n",
    " .writeStream\n",
    " .option(\"checkpointLocation\",\"s3://jpmctraining/checkpoint/naval/stream\")\n",
    " #.trigger(once=True)\n",
    " #.trigger(processingTime='1 minute')\n",
    " .toTable(\"saas.naval.stream\")\n",
    " )"
   ]
  },
  {
   "cell_type": "markdown",
   "metadata": {
    "application/vnd.databricks.v1+cell": {
     "cellMetadata": {},
     "inputWidgets": {},
     "nuid": "bc67c4f6-a1aa-44e1-9bc1-588796e6e3d2",
     "showTitle": false,
     "tableResultSettingsMap": {},
     "title": ""
    }
   },
   "source": [
    "(spark.readStream.format(\"cloudFiles\")\n",
    "  .option(\"cloudFiles.format\", \"parquet\")\n",
    "  # The schema location directory keeps track of your data schema over time\n",
    "  .option(\"cloudFiles.schemaLocation\", \"<path-to-checkpoint>\")\n",
    "  .load(\"<path-to-source-data>\")\n",
    "  .writeStream\n",
    "  .option(\"checkpointLocation\", \"<path-to-checkpoint>\")\n",
    "  .start(\"<path_to_target\")\n",
    ")"
   ]
  },
  {
   "cell_type": "markdown",
   "metadata": {
    "application/vnd.databricks.v1+cell": {
     "cellMetadata": {},
     "inputWidgets": {},
     "nuid": "47f7f82b-dc93-4e53-8dcb-55590f491a9f",
     "showTitle": false,
     "tableResultSettingsMap": {},
     "title": ""
    }
   },
   "source": [
    "default\n",
    "if new col is added in source:\n",
    "stream will fail and if you re-run new cols are added to target tbal"
   ]
  },
  {
   "cell_type": "code",
   "execution_count": 0,
   "metadata": {
    "application/vnd.databricks.v1+cell": {
     "cellMetadata": {
      "byteLimit": 2048000,
      "rowLimit": 10000
     },
     "inputWidgets": {},
     "nuid": "ae4acafa-65c1-40fb-9d31-5c99be58d20e",
     "showTitle": false,
     "tableResultSettingsMap": {},
     "title": ""
    }
   },
   "outputs": [],
   "source": [
    "input_path=\"s3://jpmctraining/input\"\n",
    "checkpoint=\"s3://jpmctraining/checkpoint/om/autoloader/checkpoint2\"\n",
    "schemalocation=\"s3://jpmctraining/checkpoint/om/autoloader/schema2\""
   ]
  },
  {
   "cell_type": "code",
   "execution_count": 0,
   "metadata": {
    "application/vnd.databricks.v1+cell": {
     "cellMetadata": {
      "byteLimit": 2048000,
      "rowLimit": 10000
     },
     "inputWidgets": {},
     "nuid": "7cb26426-35ed-4851-ba84-2f1e2a33ad45",
     "showTitle": false,
     "tableResultSettingsMap": {},
     "title": ""
    }
   },
   "outputs": [],
   "source": [
    "(\n",
    "spark\n",
    " .readStream\n",
    " .format(\"cloudFiles\")\n",
    " .option(\"cloudFiles.format\",\"csv\")\n",
    " .option(\"cloudFiles.schemaLocation\",schemalocation)\n",
    " .option(\"cloudFiles.inferColumnTypes\",True)\n",
    " .option(\"cloudFiles.schemaEvolutionMode\",\"rescue\")\n",
    " .load(input_path)\n",
    " .writeStream\n",
    " .option(\"checkpointLocation\",checkpoint)\n",
    " .option(\"mergeSchema\",True)\n",
    " .trigger(once=True)\n",
    " .toTable(\"saas.om.autoloader\")\n",
    " )"
   ]
  },
  {
   "cell_type": "code",
   "execution_count": 0,
   "metadata": {
    "application/vnd.databricks.v1+cell": {
     "cellMetadata": {},
     "inputWidgets": {},
     "nuid": "d537eb70-4a51-4670-9c14-aa73620b5eca",
     "showTitle": false,
     "tableResultSettingsMap": {},
     "title": ""
    }
   },
   "outputs": [],
   "source": [
    "https://docs.databricks.com/aws/en/ingestion/cloud-object-storage/auto-loader/schema"
   ]
  },
  {
   "cell_type": "code",
   "execution_count": 0,
   "metadata": {
    "application/vnd.databricks.v1+cell": {
     "cellMetadata": {
      "byteLimit": 2048000,
      "implicitDf": true,
      "rowLimit": 10000
     },
     "inputWidgets": {},
     "nuid": "c5ae57ff-2227-4e60-951f-c69ab1ac33e7",
     "showTitle": false,
     "tableResultSettingsMap": {},
     "title": ""
    }
   },
   "outputs": [],
   "source": [
    "%sql\n",
    "drop table saas.om.autoloader"
   ]
  },
  {
   "cell_type": "code",
   "execution_count": 0,
   "metadata": {
    "application/vnd.databricks.v1+cell": {
     "cellMetadata": {
      "byteLimit": 2048000,
      "implicitDf": true,
      "rowLimit": 10000
     },
     "inputWidgets": {},
     "nuid": "db2d73bb-0dad-4859-9601-646822cf210d",
     "showTitle": false,
     "tableResultSettingsMap": {},
     "title": ""
    }
   },
   "outputs": [],
   "source": [
    "%sql\n",
    "select * from saas.om.autoloader"
   ]
  }
 ],
 "metadata": {
  "application/vnd.databricks.v1+notebook": {
   "computePreferences": null,
   "dashboards": [],
   "environmentMetadata": {
    "base_environment": "",
    "environment_version": "2"
   },
   "inputWidgetPreferences": null,
   "language": "python",
   "notebookMetadata": {
    "mostRecentlyExecutedCommandWithImplicitDF": {
     "commandId": 5482134786470960,
     "dataframes": [
      "_sqldf"
     ]
    },
    "pythonIndentUnit": 4
   },
   "notebookName": "Autoloader",
   "widgets": {}
  },
  "language_info": {
   "name": "python"
  }
 },
 "nbformat": 4,
 "nbformat_minor": 0
}
